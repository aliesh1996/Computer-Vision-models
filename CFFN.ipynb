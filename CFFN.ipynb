{
  "nbformat": 4,
  "nbformat_minor": 0,
  "metadata": {
    "colab": {
      "provenance": []
    },
    "kernelspec": {
      "name": "python3",
      "display_name": "Python 3"
    },
    "accelerator": "GPU"
  },
  "cells": [
    {
      "cell_type": "code",
      "metadata": {
        "id": "3JWU9XcVcrZO",
        "outputId": "2627c41d-f90a-451c-b9ff-bc0f8b01ea96",
        "colab": {
          "base_uri": "https://localhost:8080/",
          "height": 445
        }
      },
      "source": [
        "import torch\n",
        "from torch import nn\n",
        "from torch import optim\n",
        "import os\n",
        "import torch.nn.functional as F\n",
        "!pip install cloud-tpu-client==0.10 https://storage.googleapis.com/tpu-pytorch/wheels/torch_xla-1.6-cp36-cp36m-linux_x86_64.whl\n",
        "import torch_xla\n",
        "import torch_xla.core.xla_model as xm\n",
        "import torch_xla.debug.metrics as met\n",
        "import torch_xla.distributed.parallel_loader as pl\n",
        "import torch_xla.distributed.xla_multiprocessing as xmp\n",
        "import torch_xla.utils.utils as xu\n",
        "import torchvision\n",
        "from torchvision import datasets, transforms\n",
        "import sys\n",
        "import math\n",
        "\n",
        "import shutil\n",
        "!pip install setproctitle\n",
        "import setproctitle\n",
        "\n",
        "# !pip install import-ipynb\n",
        "# import import_ipynb\n",
        "\n",
        "# from google.colab import drive\n",
        "# drive.mount('/content/drive')\n",
        "\n",
        "# %cd /content/drive/My\\ Drive\n",
        "# !ls\n",
        "\n",
        "# import densenet_torch\n",
        "# import make_graph\n"
      ],
      "execution_count": null,
      "outputs": [
        {
          "output_type": "stream",
          "text": [
            "Requirement already satisfied: cloud-tpu-client==0.10 in /usr/local/lib/python3.6/dist-packages (0.10)\n",
            "Requirement already satisfied: torch-xla==1.6 from https://storage.googleapis.com/tpu-pytorch/wheels/torch_xla-1.6-cp36-cp36m-linux_x86_64.whl in /usr/local/lib/python3.6/dist-packages (1.6)\n",
            "Requirement already satisfied: google-api-python-client==1.8.0 in /usr/local/lib/python3.6/dist-packages (from cloud-tpu-client==0.10) (1.8.0)\n",
            "Requirement already satisfied: oauth2client in /usr/local/lib/python3.6/dist-packages (from cloud-tpu-client==0.10) (4.1.3)\n",
            "Requirement already satisfied: uritemplate<4dev,>=3.0.0 in /usr/local/lib/python3.6/dist-packages (from google-api-python-client==1.8.0->cloud-tpu-client==0.10) (3.0.1)\n",
            "Requirement already satisfied: httplib2<1dev,>=0.9.2 in /usr/local/lib/python3.6/dist-packages (from google-api-python-client==1.8.0->cloud-tpu-client==0.10) (0.17.4)\n",
            "Requirement already satisfied: six<2dev,>=1.6.1 in /usr/local/lib/python3.6/dist-packages (from google-api-python-client==1.8.0->cloud-tpu-client==0.10) (1.15.0)\n",
            "Requirement already satisfied: google-auth-httplib2>=0.0.3 in /usr/local/lib/python3.6/dist-packages (from google-api-python-client==1.8.0->cloud-tpu-client==0.10) (0.0.4)\n",
            "Requirement already satisfied: google-auth>=1.4.1 in /usr/local/lib/python3.6/dist-packages (from google-api-python-client==1.8.0->cloud-tpu-client==0.10) (1.17.2)\n",
            "Requirement already satisfied: google-api-core<2dev,>=1.13.0 in /usr/local/lib/python3.6/dist-packages (from google-api-python-client==1.8.0->cloud-tpu-client==0.10) (1.16.0)\n",
            "Requirement already satisfied: pyasn1-modules>=0.0.5 in /usr/local/lib/python3.6/dist-packages (from oauth2client->cloud-tpu-client==0.10) (0.2.8)\n",
            "Requirement already satisfied: rsa>=3.1.4 in /usr/local/lib/python3.6/dist-packages (from oauth2client->cloud-tpu-client==0.10) (4.6)\n",
            "Requirement already satisfied: pyasn1>=0.1.7 in /usr/local/lib/python3.6/dist-packages (from oauth2client->cloud-tpu-client==0.10) (0.4.8)\n",
            "Requirement already satisfied: setuptools>=40.3.0 in /usr/local/lib/python3.6/dist-packages (from google-auth>=1.4.1->google-api-python-client==1.8.0->cloud-tpu-client==0.10) (50.3.0)\n",
            "Requirement already satisfied: cachetools<5.0,>=2.0.0 in /usr/local/lib/python3.6/dist-packages (from google-auth>=1.4.1->google-api-python-client==1.8.0->cloud-tpu-client==0.10) (4.1.1)\n",
            "Requirement already satisfied: requests<3.0.0dev,>=2.18.0 in /usr/local/lib/python3.6/dist-packages (from google-api-core<2dev,>=1.13.0->google-api-python-client==1.8.0->cloud-tpu-client==0.10) (2.23.0)\n",
            "Requirement already satisfied: pytz in /usr/local/lib/python3.6/dist-packages (from google-api-core<2dev,>=1.13.0->google-api-python-client==1.8.0->cloud-tpu-client==0.10) (2018.9)\n",
            "Requirement already satisfied: protobuf>=3.4.0 in /usr/local/lib/python3.6/dist-packages (from google-api-core<2dev,>=1.13.0->google-api-python-client==1.8.0->cloud-tpu-client==0.10) (3.12.4)\n",
            "Requirement already satisfied: googleapis-common-protos<2.0dev,>=1.6.0 in /usr/local/lib/python3.6/dist-packages (from google-api-core<2dev,>=1.13.0->google-api-python-client==1.8.0->cloud-tpu-client==0.10) (1.52.0)\n",
            "Requirement already satisfied: chardet<4,>=3.0.2 in /usr/local/lib/python3.6/dist-packages (from requests<3.0.0dev,>=2.18.0->google-api-core<2dev,>=1.13.0->google-api-python-client==1.8.0->cloud-tpu-client==0.10) (3.0.4)\n",
            "Requirement already satisfied: certifi>=2017.4.17 in /usr/local/lib/python3.6/dist-packages (from requests<3.0.0dev,>=2.18.0->google-api-core<2dev,>=1.13.0->google-api-python-client==1.8.0->cloud-tpu-client==0.10) (2020.6.20)\n",
            "Requirement already satisfied: urllib3!=1.25.0,!=1.25.1,<1.26,>=1.21.1 in /usr/local/lib/python3.6/dist-packages (from requests<3.0.0dev,>=2.18.0->google-api-core<2dev,>=1.13.0->google-api-python-client==1.8.0->cloud-tpu-client==0.10) (1.24.3)\n",
            "Requirement already satisfied: idna<3,>=2.5 in /usr/local/lib/python3.6/dist-packages (from requests<3.0.0dev,>=2.18.0->google-api-core<2dev,>=1.13.0->google-api-python-client==1.8.0->cloud-tpu-client==0.10) (2.10)\n",
            "Requirement already satisfied: setproctitle in /usr/local/lib/python3.6/dist-packages (1.1.10)\n"
          ],
          "name": "stdout"
        }
      ]
    },
    {
      "cell_type": "code",
      "metadata": {
        "id": "l8f2M6l9h51b"
      },
      "source": [
        "import torchvision\n",
        "import torchvision.datasets as dset\n",
        "import torchvision.transforms as transforms\n",
        "from torch.utils.data import DataLoader,Dataset\n",
        "import matplotlib.pyplot as plt\n",
        "import torchvision.utils\n",
        "import numpy as np\n",
        "import random\n",
        "from PIL import Image\n",
        "import torch\n",
        "from torch.autograd import Variable\n",
        "import PIL.ImageOps\n",
        "import torch.nn as nn\n",
        "from torch import optim\n",
        "import torch.nn.functional as F"
      ],
      "execution_count": null,
      "outputs": []
    },
    {
      "cell_type": "code",
      "metadata": {
        "id": "NlLOryeYiAAn"
      },
      "source": [
        "def imshow(img,text=None,should_save=False):\n",
        "    npimg = img.numpy()\n",
        "    plt.axis(\"off\")\n",
        "    if text:\n",
        "        plt.text(75, 8, text, style='italic',fontweight='bold',\n",
        "            bbox={'facecolor':'white', 'alpha':0.8, 'pad':10})\n",
        "    plt.imshow(np.transpose(npimg, (1, 2, 0)))\n",
        "    plt.show()\n",
        "\n",
        "def show_plot(iteration,loss):\n",
        "    plt.plot(iteration,loss)\n",
        "    plt.show()"
      ],
      "execution_count": null,
      "outputs": []
    },
    {
      "cell_type": "code",
      "metadata": {
        "id": "izCVUjufiAsa",
        "outputId": "af5bfe7e-10bc-426a-de92-8c9b00790653",
        "colab": {
          "base_uri": "https://localhost:8080/",
          "height": 765
        }
      },
      "source": [
        "!pip install import-ipynb\n",
        "import import_ipynb\n",
        "\n",
        "from google.colab import drive\n",
        "drive.mount('/content/drive')\n",
        "\n",
        "%cd /content/drive/My\\ Drive\n",
        "!ls\n",
        "\n",
        "class Config():\n",
        "    training_dir = \"./data/faces/training/\"\n",
        "    testing_dir = \"./data/faces/testing/\"\n",
        "    train_batch_size = 64\n",
        "    train_number_epochs = 100"
      ],
      "execution_count": null,
      "outputs": [
        {
          "output_type": "stream",
          "text": [
            "Requirement already satisfied: import-ipynb in /usr/local/lib/python3.6/dist-packages (0.1.3)\n",
            "Drive already mounted at /content/drive; to attempt to forcibly remount, call drive.mount(\"/content/drive\", force_remount=True).\n",
            "/content/drive/My Drive\n",
            "'?????????????? ?? ???????????????????? ???????? ?????????????????? ?????????????? ???????????? 2.pdf'\n",
            " Ali_Eshtehardian_CV.pdf\n",
            " cifar\n",
            "'Colab Notebooks'\n",
            "'Copy of img_align_celeba.zip'\n",
            " C-VAE2.ipynb\n",
            " C-VAE.ipynb\n",
            " DAE.ipynb\n",
            " data\n",
            " Data_train_input.xlsx\n",
            " Data_train_output.xlsx\n",
            " densenet.ipynb\n",
            " densenet_torch.ipynb\n",
            " FTM.gdoc\n",
            " FTM.pdf\n",
            " GAN.ipynb\n",
            " grammarly_account.jpg\n",
            " img_align_celeba2\n",
            " img_align_celeba.zip\n",
            " indices_train_test.mat\n",
            " make_graph.ipynb\n",
            " mnist_data\n",
            "'MNIST_LSTM(32).pt'\n",
            " models_64x64.ipynb\n",
            " ops2.ipynb\n",
            " pytorch-xla-env-setup.py\n",
            " scan0001.pdf\n",
            " shakespeare_LSTM.pt\n",
            " shakespeare.txt\n",
            " test_index.npy\n",
            " testnet.ipynb\n",
            " torch-nightly+20200516-cp36-cp36m-linux_x86_64.whl\n",
            " torch-nightly-cp36-cp36m-linux_x86_64.whl\n",
            " torchvision-nightly+20200516-cp36-cp36m-linux_x86_64.whl\n",
            " torchvision-nightly-cp36-cp36m-linux_x86_64.whl\n",
            " torch_xla-nightly+20200516-cp36-cp36m-linux_x86_64.whl\n",
            " torch_xla-nightly-cp36-cp36m-linux_x86_64.whl\n",
            " USD_D1_2000.xlsx\n",
            " utils.ipynb\n",
            " validation_index.npy\n",
            " work\n"
          ],
          "name": "stdout"
        }
      ]
    },
    {
      "cell_type": "code",
      "metadata": {
        "id": "vmZTQrtaiDdn"
      },
      "source": [
        "class SiameseNetworkDataset(Dataset):\n",
        "\n",
        "    def __init__(self,imageFolderDataset,transform=None,should_invert=True):\n",
        "        self.imageFolderDataset = imageFolderDataset\n",
        "        self.transform = transform\n",
        "        self.should_invert = should_invert\n",
        "\n",
        "    def __getitem__(self,index):\n",
        "        img0_tuple = random.choice(self.imageFolderDataset.imgs)\n",
        "        #we need to make sure approx 50% of images are in the same class\n",
        "        should_get_same_class = random.randint(0,1)\n",
        "        if should_get_same_class:\n",
        "            while True:\n",
        "                #keep looping till the same class image is found\n",
        "                img1_tuple = random.choice(self.imageFolderDataset.imgs)\n",
        "                if img0_tuple[1]==img1_tuple[1]:\n",
        "                    break\n",
        "        else:\n",
        "            while True:\n",
        "                #keep looping till a different class image is found\n",
        "\n",
        "                img1_tuple = random.choice(self.imageFolderDataset.imgs)\n",
        "                if img0_tuple[1] !=img1_tuple[1]:\n",
        "                    break\n",
        "\n",
        "        img0 = Image.open(img0_tuple[0])\n",
        "        img1 = Image.open(img1_tuple[0])\n",
        "        img0 = img0.convert(\"L\")\n",
        "        img1 = img1.convert(\"L\")\n",
        "\n",
        "        if self.should_invert:\n",
        "            img0 = PIL.ImageOps.invert(img0)\n",
        "            img1 = PIL.ImageOps.invert(img1)\n",
        "\n",
        "        if self.transform is not None:\n",
        "            img0 = self.transform(img0)\n",
        "            img1 = self.transform(img1)\n",
        "\n",
        "        return img0, img1 , torch.from_numpy(np.array([int(img1_tuple[1]!=img0_tuple[1])],dtype=np.float32))\n",
        "\n",
        "    def __len__(self):\n",
        "        return len(self.imageFolderDataset.imgs)"
      ],
      "execution_count": null,
      "outputs": []
    },
    {
      "cell_type": "code",
      "metadata": {
        "id": "bdZcyBLziGlt"
      },
      "source": [
        "folder_dataset = dset.ImageFolder(root=Config.training_dir)"
      ],
      "execution_count": null,
      "outputs": []
    },
    {
      "cell_type": "code",
      "metadata": {
        "id": "5_6Z-skNiIbW"
      },
      "source": [
        "siamese_dataset = SiameseNetworkDataset(imageFolderDataset=folder_dataset,\n",
        "                                        transform=transforms.Compose([transforms.Resize((100,100)),\n",
        "                                                                      transforms.ToTensor()\n",
        "                                                                      ])\n",
        "                                       ,should_invert=False)"
      ],
      "execution_count": null,
      "outputs": []
    },
    {
      "cell_type": "code",
      "metadata": {
        "id": "k9q5dRLZiKVC",
        "outputId": "8b624b97-dd77-477c-ec00-e1056fbc9f0c",
        "colab": {
          "base_uri": "https://localhost:8080/",
          "height": 251
        }
      },
      "source": [
        "vis_dataloader = DataLoader(siamese_dataset,\n",
        "                        shuffle=True,\n",
        "                        num_workers=8,\n",
        "                        batch_size=8)\n",
        "dataiter = iter(vis_dataloader)\n",
        "\n",
        "\n",
        "example_batch = next(dataiter)\n",
        "concatenated = torch.cat((example_batch[0],example_batch[1]),0)\n",
        "imshow(torchvision.utils.make_grid(concatenated))\n",
        "print(example_batch[2].numpy())"
      ],
      "execution_count": null,
      "outputs": [
        {
          "output_type": "display_data",
          "data": {
            "image/png": "[encoded data removed]",
            "text/plain": [
              "<Figure size 432x288 with 1 Axes>"
            ]
          },
          "metadata": {
            "tags": [],
            "needs_background": "light"
          }
        },
        {
          "output_type": "stream",
          "text": [
            "[[1.]\n",
            " [0.]\n",
            " [1.]\n",
            " [1.]\n",
            " [1.]\n",
            " [1.]\n",
            " [0.]\n",
            " [1.]]\n"
          ],
          "name": "stdout"
        }
      ]
    },
    {
      "cell_type": "code",
      "metadata": {
        "id": "GlcFHMrztGw6"
      },
      "source": [
        "class Bottleneck(nn.Module):\n",
        "    def __init__(self, nChannels, growthRate):\n",
        "        super(Bottleneck, self).__init__()\n",
        "        interChannels = 4*growthRate\n",
        "        self.bn1 = nn.BatchNorm2d(nChannels)\n",
        "        self.conv1 = nn.Conv2d(nChannels, interChannels, kernel_size=1,\n",
        "                               bias=False)\n",
        "        self.bn2 = nn.BatchNorm2d(interChannels)\n",
        "        self.conv2 = nn.Conv2d(interChannels, growthRate, kernel_size=3,\n",
        "                               padding=1, bias=False)\n",
        "\n",
        "    def forward(self, x):\n",
        "        out = self.conv1(F.relu(self.bn1(x)))\n",
        "        out = self.conv2(F.relu(self.bn2(out)))\n",
        "        out = torch.cat((x, out), 1)\n",
        "        return out"
      ],
      "execution_count": null,
      "outputs": []
    },
    {
      "cell_type": "code",
      "metadata": {
        "id": "g6hpB9xuuP2D"
      },
      "source": [
        "class SingleLayer(nn.Module):\n",
        "    def __init__(self, nChannels, growthRate):\n",
        "        super(SingleLayer, self).__init__()\n",
        "        self.bn1 = nn.BatchNorm2d(nChannels)\n",
        "        self.conv1 = nn.Conv2d(nChannels, growthRate, kernel_size=3,\n",
        "                               padding=1, bias=False)\n",
        "\n",
        "    def forward(self, x):\n",
        "        out = self.conv1(F.relu(self.bn1(x)))\n",
        "        out = torch.cat((x, out), 1)\n",
        "        return out"
      ],
      "execution_count": null,
      "outputs": []
    },
    {
      "cell_type": "code",
      "metadata": {
        "id": "Nl913ZbOuUl0"
      },
      "source": [
        "class Transition(nn.Module):\n",
        "    def __init__(self, nChannels, nOutChannels):\n",
        "        super(Transition, self).__init__()\n",
        "        self.bn1 = nn.BatchNorm2d(nChannels)\n",
        "        self.conv1 = nn.Conv2d(nChannels, nOutChannels, kernel_size=1,\n",
        "                               bias=False)\n",
        "\n",
        "    def forward(self, x):\n",
        "        out = self.conv1(F.relu(self.bn1(x)))\n",
        "        out = F.avg_pool2d(out, 2)\n",
        "        return out"
      ],
      "execution_count": null,
      "outputs": []
    },
    {
      "cell_type": "code",
      "metadata": {
        "id": "t7Ub1wCguZaJ"
      },
      "source": [
        "# class DenseNet(nn.Module):\n",
        "#     def __init__(self, growthRate, nDenseBlocks, reduction, nClasses, bottleneck):\n",
        "#         super(DenseNet, self).__init__()\n",
        "\n",
        "#         # nDenseBlocks = (depth-4) // 3\n",
        "#         if bottleneck:\n",
        "#             nDenseBlocks //= 2\n",
        "\n",
        "#         nChannels = 2*growthRate\n",
        "#         self.conv1 = nn.Conv2d(3, nChannels, kernel_size=3, padding=1,\n",
        "#                                bias=False)\n",
        "#         self.dense1 = self._make_dense(nChannels, growthRate, nDenseBlocks, bottleneck)\n",
        "#         nChannels += nDenseBlocks*growthRate\n",
        "#         nOutChannels = int(math.floor(nChannels*reduction))\n",
        "#         self.trans1 = Transition(nChannels, nOutChannels)\n",
        "\n",
        "#         nChannels = nOutChannels\n",
        "#         self.dense2 = self._make_dense(nChannels, growthRate, nDenseBlocks, bottleneck)\n",
        "#         nChannels += nDenseBlocks*growthRate\n",
        "#         nOutChannels = int(math.floor(nChannels*reduction))\n",
        "#         self.trans2 = Transition(nChannels, nOutChannels)\n",
        "\n",
        "#         nChannels = nOutChannels\n",
        "#         self.dense3 = self._make_dense(nChannels, growthRate, nDenseBlocks, bottleneck)\n",
        "#         nChannels += nDenseBlocks*growthRate\n",
        "\n",
        "#         self.bn1 = nn.BatchNorm2d(nChannels)\n",
        "#         self.fc = nn.Linear(nChannels, nClasses)\n",
        "\n",
        "#         for m in self.modules():\n",
        "#             if isinstance(m, nn.Conv2d):\n",
        "#                 n = m.kernel_size[0] * m.kernel_size[1] * m.out_channels\n",
        "#                 m.weight.data.normal_(0, math.sqrt(2. / n))\n",
        "#             elif isinstance(m, nn.BatchNorm2d):\n",
        "#                 m.weight.data.fill_(1)\n",
        "#                 m.bias.data.zero_()\n",
        "#             elif isinstance(m, nn.Linear):\n",
        "#                 m.bias.data.zero_()\n",
        "\n",
        "#     def _make_dense(self, nChannels, growthRate, nDenseBlocks, bottleneck):\n",
        "#         layers = []\n",
        "#         for i in range(int(nDenseBlocks)):\n",
        "#             if bottleneck:\n",
        "#                 layers.append(Bottleneck(nChannels, growthRate))\n",
        "#             else:\n",
        "#                 layers.append(SingleLayer(nChannels, growthRate))\n",
        "#             nChannels += growthRate\n",
        "#         return nn.Sequential(*layers)\n",
        "\n",
        "#     def forward(self, x):\n",
        "#         out = self.conv1(x)\n",
        "#         out = self.trans1(self.dense1(out))\n",
        "#         out = self.trans2(self.dense2(out))\n",
        "#         out = self.dense3(out)\n",
        "#         out = torch.squeeze(F.avg_pool2d(F.relu(self.bn1(out)), 8))\n",
        "#         out = F.log_softmax(self.fc(out))\n",
        "#         return out"
      ],
      "execution_count": null,
      "outputs": []
    },
    {
      "cell_type": "code",
      "metadata": {
        "id": "hKrgVec6ri1P"
      },
      "source": [
        "def make_dense(nChannels, growthRate, nDenseBlocks, bottleneck):\n",
        "        layers = []\n",
        "        for i in range(int(nDenseBlocks)):\n",
        "            if bottleneck:\n",
        "                layers.append(Bottleneck(nChannels, growthRate))\n",
        "            else:\n",
        "                layers.append(SingleLayer(nChannels, growthRate))\n",
        "            nChannels += growthRate\n",
        "        return nn.Sequential(*layers)"
      ],
      "execution_count": null,
      "outputs": []
    },
    {
      "cell_type": "code",
      "metadata": {
        "id": "M4XQUP5hfvR9"
      },
      "source": [
        "class CFFN(nn.Module):\n",
        "    def __init__(self):\n",
        "        super(CFFN, self).__init__()\n",
        "        self.cnn1 = nn.Sequential(\n",
        "            nn.ReflectionPad2d(1),\n",
        "            nn.Conv2d(1, 8, kernel_size=3),\n",
        "            nn.ReLU(inplace=True),\n",
        "            nn.BatchNorm2d(8),\n",
        "\n",
        "            # nn.ReflectionPad2d(1),\n",
        "            # nn.Conv2d(4, 8, kernel_size=3),\n",
        "            # nn.ReLU(inplace=True),\n",
        "            # nn.BatchNorm2d(8),\n",
        "\n",
        "\n",
        "            # nn.ReflectionPad2d(1),\n",
        "            # nn.Conv2d(8, 8, kernel_size=3),\n",
        "            # nn.ReLU(inplace=True),\n",
        "            # nn.BatchNorm2d(8),\n",
        "\n",
        "\n",
        "        )\n",
        "        # self.dense1=make_dense(nChannels=8, growthRate=24, nDenseBlocks=2,bottleneck=True)\n",
        "\n",
        "        self.fc1 = nn.Sequential(\n",
        "            nn.Linear(8*100*100, 500),\n",
        "            nn.ReLU(inplace=True),\n",
        "\n",
        "            nn.Linear(500, 500),\n",
        "            nn.ReLU(inplace=True),\n",
        "\n",
        "            nn.Linear(500, 5))\n",
        "\n",
        "    def forward_once(self, x):\n",
        "        output = self.cnn1(x)\n",
        "        # output = self.dense1(output)\n",
        "        output = output.view(output.size()[0], -1)\n",
        "        output = self.fc1(output)\n",
        "        return output\n",
        "\n",
        "    def forward(self, input1, input2):\n",
        "        output1 = self.forward_once(input1)\n",
        "        output2 = self.forward_once(input2)\n",
        "        return output1, output2\n",
        "\n",
        "  # def __init__(self):\n",
        "  #   super(CFFN,self).__init__()\n",
        "\n",
        "    # self.conv1 = nn.Conv2d(1, 8, kernel_size=7)\n",
        "    # self.dense1=DenseNet(growthRate=24, nDenseBlocks=2, reduction=0.5,\n",
        "    #                         bottleneck=True, nClasses=48)\n",
        "    # self.dense2=DenseNet(growthRate=24, nDenseBlocks=3, reduction=0.5,\n",
        "    #                         bottleneck=True, nClasses=60)\n",
        "    # self.dense3=DenseNet(growthRate=24, nDenseBlocks=4, reduction=0.5,\n",
        "    #                         bottleneck=True, nClasses=78)\n",
        "    # self.dense4=DenseNet(growthRate=24, nDenseBlocks=2, reduction=0.5,\n",
        "    #                         bottleneck=True, nClasses=126)\n",
        "    # self.conv2= nn.Conv2d(126, 128, kernel_size=3)\n",
        "\n",
        "    # self.fc1=nn.Linear(8*98*98,384)\n",
        "    # self.conv3=nn.Conv2d(128,2,3)\n",
        "    # self.pool=nn.AvgPool2d(2,2)\n",
        "    # self.fc2=nn.Linear(2,1)\n",
        "\n",
        "  # def forward_once(self, x):\n",
        "    # x1=F.relu(self.conv1(x))\n",
        "    # x2=self.dense2(self.dense1(x1))\n",
        "    # x3=self.dense3(x2)\n",
        "    # x4=self.dense4(x3)\n",
        "    # x5=F.relu(self.conv2(x4))\n",
        "    # x6=torch.cat((x5,x4,x3),0)\n",
        "    # x1 = x1.view(-1, 8*98*98)\n",
        "    # output=self.fc1(x1)\n",
        "    # x8=F.relu(self.conv2(x6))\n",
        "    # x9=self.pool(x8)\n",
        "    # output=F.softmax(self.fc2(x9))\n",
        "    # return output\n",
        "  # def forward(self, input1, input2):\n",
        "  #       output1 = self.forward_once(input1)\n",
        "  #       output2 = self.forward_once(input2)\n",
        "  #       return output1, output2"
      ],
      "execution_count": null,
      "outputs": []
    },
    {
      "cell_type": "code",
      "metadata": {
        "id": "5pRvU8kq_DSL"
      },
      "source": [
        "class ContrastiveLoss(torch.nn.Module):\n",
        "\n",
        "    def __init__(self, margin=2.0):\n",
        "        super(ContrastiveLoss, self).__init__()\n",
        "        self.margin = margin\n",
        "\n",
        "    def forward(self, output1, output2, label):\n",
        "        euclidean_distance = F.pairwise_distance(output1, output2)\n",
        "        loss_contrastive = torch.mean((1-label) * torch.pow(euclidean_distance, 2) +\n",
        "                                      (label) * torch.pow(torch.clamp(self.margin - euclidean_distance, min=0.0), 2))\n",
        "\n",
        "\n",
        "        return loss_contrastive"
      ],
      "execution_count": null,
      "outputs": []
    },
    {
      "cell_type": "code",
      "metadata": {
        "id": "qIDX4i8ggtOK"
      },
      "source": [
        "train_dataloader = DataLoader(siamese_dataset,\n",
        "                        shuffle=True,\n",
        "                        num_workers=8,\n",
        "                        batch_size=Config.train_batch_size)"
      ],
      "execution_count": null,
      "outputs": []
    },
    {
      "cell_type": "code",
      "metadata": {
        "id": "ayfSxtgViSoA"
      },
      "source": [
        "net = CFFN().cuda()\n",
        "criterion = ContrastiveLoss()\n",
        "optimizer = optim.Adam(net.parameters(),lr = 0.0005)"
      ],
      "execution_count": null,
      "outputs": []
    },
    {
      "cell_type": "code",
      "metadata": {
        "id": "Q0RWiYNCiUzm"
      },
      "source": [
        "counter = []\n",
        "loss_history = []\n",
        "iteration_number= 0"
      ],
      "execution_count": null,
      "outputs": []
    },
    {
      "cell_type": "code",
      "metadata": {
        "id": "KwBOZ7yZiXAt"
      },
      "source": [
        "for epoch in range(0,Config.train_number_epochs):\n",
        "    for i, data in enumerate(train_dataloader,0):\n",
        "        img0, img1 , label = data\n",
        "        img0, img1 , label = img0.cuda(), img1.cuda() , label.cuda()\n",
        "        optimizer.zero_grad()\n",
        "        print(img0.shape)\n",
        "        print(img1.shape)\n",
        "        output1,output2 = net(img0,img1)\n",
        "        loss_contrastive = criterion(output1,output2,label)\n",
        "        loss_contrastive.backward()\n",
        "        optimizer.step()\n",
        "        if i %10 == 0 :\n",
        "            print(\"Epoch number {}\\n Current loss {}\\n\".format(epoch,loss_contrastive.item()))\n",
        "            iteration_number +=10\n",
        "            counter.append(iteration_number)\n",
        "            loss_history.append(loss_contrastive.item())\n",
        "show_plot(counter,loss_history)"
      ],
      "execution_count": null,
      "outputs": []
    },
    {
      "cell_type": "code",
      "metadata": {
        "id": "TYbbU9e3pbwV"
      },
      "source": [
        "# cffn=CFFN()\n",
        "# criterion = ContrastiveLoss()\n",
        "# optimizer = optim.SGD(cffn.parameters(), lr=0.001, momentum=0.9)\n",
        "\n",
        "# # net = SiameseNetwork().cuda()\n",
        "# # criterion = ContrastiveLoss()\n",
        "# # optimizer = optim.Adam(net.parameters(),lr = 0.0005 )\n",
        "\n",
        "# counter = []\n",
        "# loss_history = []\n",
        "# iteration_number= 0\n",
        "\n",
        "# for epoch in range(100):\n",
        "#     for i, data in enumerate(trainloader,0):\n",
        "#         img0, img1 , label = data\n",
        "#         img0, img1 , label = Variable(img0).cuda(), Variable(img1).cuda() , Variable(label).cuda()\n",
        "#         output1,output2 = net(img0,img1)\n",
        "#         optimizer.zero_grad()\n",
        "#         loss_contrastive = criterion(output1,output2,label)\n",
        "#         loss_contrastive.backward()\n",
        "#         optimizer.step()\n",
        "#         if i %10 == 0 :\n",
        "#             print(\"Epoch number {}\\n Current loss {}\\n\".format(epoch,loss_contrastive.data[0]))\n",
        "#             iteration_number +=10\n",
        "#             counter.append(iteration_number)\n",
        "#             loss_history.append(loss_contrastive.data[0])\n",
        "# show_plot(counter,loss_history)"
      ],
      "execution_count": null,
      "outputs": []
    }
  ]
}